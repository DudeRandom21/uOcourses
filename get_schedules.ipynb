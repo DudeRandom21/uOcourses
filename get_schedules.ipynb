{
 "cells": [
  {
   "cell_type": "code",
   "execution_count": 101,
   "metadata": {},
   "outputs": [],
   "source": [
    "import requests\n",
    "from bs4 import BeautifulSoup\n",
    "import urllib\n",
    "import pandas as pd\n",
    "import json\n",
    "import re\n",
    "from uO_scrape import get_offerings, is_activity, get_sections\n",
    "from time import sleep, perf_counter as pf\n",
    "requests.packages.urllib3.util.ssl_.DEFAULT_CIPHERS += ':DES-CBC3-SHA'\n",
    "\n",
    "def raze_list(l):\n",
    "    out = []\n",
    "    for x in l:\n",
    "        if type(x) == list:\n",
    "            out += raze_list(x)\n",
    "        else:\n",
    "            out.append(x)\n",
    "    return out"
   ]
  },
  {
   "cell_type": "code",
   "execution_count": 1,
   "metadata": {},
   "outputs": [
    {
     "data": {
      "text/plain": [
       "['.',\n",
       " '..',\n",
       " '.ipynb_checkpoints',\n",
       " 'get_schedules.ipynb',\n",
       " 'get_schedules.py',\n",
       " 'get_subjects.ipynb',\n",
       " 'read_subjects.ipynb',\n",
       " 'test_get_offers.ipynb',\n",
       " 'uOttawa_courses.csv',\n",
       " 'uOttawa_courses.json',\n",
       " 'uOttawa_subjects.csv']"
      ]
     },
     "execution_count": 1,
     "metadata": {},
     "output_type": "execute_result"
    }
   ],
   "source": [
    "def get_files():\n",
    "    x = !dir\n",
    "    files = [y.rsplit(' ', 1)[-1] for y in list(x)]\n",
    "    files = [x for x in files if '.' in x]\n",
    "    return files\n",
    "\n",
    "files = get_files()\n",
    "files"
   ]
  },
  {
   "cell_type": "markdown",
   "metadata": {},
   "source": [
    "# Quick Get-All"
   ]
  },
  {
   "cell_type": "code",
   "execution_count": 4,
   "metadata": {},
   "outputs": [],
   "source": [
    "courses = get_offerings('', '')"
   ]
  },
  {
   "cell_type": "code",
   "execution_count": 8,
   "metadata": {},
   "outputs": [
    {
     "name": "stdout",
     "output_type": "stream",
     "text": [
      "\ttable - unique codes\n",
      "\t 2882 - 2615\n"
     ]
    },
    {
     "data": {
      "text/html": [
       "<div>\n",
       "<style scoped>\n",
       "    .dataframe tbody tr th:only-of-type {\n",
       "        vertical-align: middle;\n",
       "    }\n",
       "\n",
       "    .dataframe tbody tr th {\n",
       "        vertical-align: top;\n",
       "    }\n",
       "\n",
       "    .dataframe thead th {\n",
       "        text-align: right;\n",
       "    }\n",
       "</style>\n",
       "<table border=\"1\" class=\"dataframe\">\n",
       "  <thead>\n",
       "    <tr style=\"text-align: right;\">\n",
       "      <th></th>\n",
       "      <th>code</th>\n",
       "      <th>department</th>\n",
       "      <th>faculty</th>\n",
       "      <th>link</th>\n",
       "      <th>term</th>\n",
       "      <th>title</th>\n",
       "    </tr>\n",
       "  </thead>\n",
       "  <tbody>\n",
       "    <tr>\n",
       "      <th>0</th>\n",
       "      <td>ADM 1100</td>\n",
       "      <td>Administration (General)</td>\n",
       "      <td>Telfer School of Management</td>\n",
       "      <td>Course.aspx?id=000001&amp;term=2189&amp;session=FS</td>\n",
       "      <td>2018 Fall Term</td>\n",
       "      <td>Introduction to Business Management</td>\n",
       "    </tr>\n",
       "    <tr>\n",
       "      <th>1</th>\n",
       "      <td>ADM 1101</td>\n",
       "      <td>Administration (General)</td>\n",
       "      <td>Telfer School of Management</td>\n",
       "      <td>Course.aspx?id=000002&amp;term=2189&amp;session=FS</td>\n",
       "      <td>2018 Fall Term</td>\n",
       "      <td>Social Context of Business</td>\n",
       "    </tr>\n",
       "    <tr>\n",
       "      <th>2</th>\n",
       "      <td>ADM 1300</td>\n",
       "      <td>Administration (General)</td>\n",
       "      <td>Telfer School of Management</td>\n",
       "      <td>Course.aspx?id=000003&amp;term=2189&amp;session=FS</td>\n",
       "      <td>2018 Fall Term</td>\n",
       "      <td>Introduction to Business Management</td>\n",
       "    </tr>\n",
       "    <tr>\n",
       "      <th>3</th>\n",
       "      <td>ADM 1301</td>\n",
       "      <td>Administration (General)</td>\n",
       "      <td>Telfer School of Management</td>\n",
       "      <td>Course.aspx?id=000004&amp;term=2189&amp;session=FS</td>\n",
       "      <td>2018 Fall Term</td>\n",
       "      <td>Social Context of Business</td>\n",
       "    </tr>\n",
       "    <tr>\n",
       "      <th>4</th>\n",
       "      <td>ADM 1340</td>\n",
       "      <td>Administration (General)</td>\n",
       "      <td>Telfer School of Management</td>\n",
       "      <td>Course.aspx?id=000005&amp;term=2189&amp;session=FS</td>\n",
       "      <td>2018 Fall Term</td>\n",
       "      <td>Financial Accounting</td>\n",
       "    </tr>\n",
       "  </tbody>\n",
       "</table>\n",
       "</div>"
      ],
      "text/plain": [
       "       code                department                      faculty  \\\n",
       "0  ADM 1100  Administration (General)  Telfer School of Management   \n",
       "1  ADM 1101  Administration (General)  Telfer School of Management   \n",
       "2  ADM 1300  Administration (General)  Telfer School of Management   \n",
       "3  ADM 1301  Administration (General)  Telfer School of Management   \n",
       "4  ADM 1340  Administration (General)  Telfer School of Management   \n",
       "\n",
       "                                         link            term  \\\n",
       "0  Course.aspx?id=000001&term=2189&session=FS  2018 Fall Term   \n",
       "1  Course.aspx?id=000002&term=2189&session=FS  2018 Fall Term   \n",
       "2  Course.aspx?id=000003&term=2189&session=FS  2018 Fall Term   \n",
       "3  Course.aspx?id=000004&term=2189&session=FS  2018 Fall Term   \n",
       "4  Course.aspx?id=000005&term=2189&session=FS  2018 Fall Term   \n",
       "\n",
       "                                 title  \n",
       "0  Introduction to Business Management  \n",
       "1           Social Context of Business  \n",
       "2  Introduction to Business Management  \n",
       "3           Social Context of Business  \n",
       "4                 Financial Accounting  "
      ]
     },
     "execution_count": 8,
     "metadata": {},
     "output_type": "execute_result"
    }
   ],
   "source": [
    "table = pd.read_json(json.dumps(courses), orient='records')\n",
    "table.code = table.code.str.strip().str[:3] + ' ' + table.code.str.strip().str[-4:]\n",
    "print('\\ttable', '-', 'unique codes')\n",
    "print('\\t', len(table), '-', len(set(table.code)))\n",
    "table.head()"
   ]
  },
  {
   "cell_type": "code",
   "execution_count": 9,
   "metadata": {},
   "outputs": [],
   "source": [
    "table.to_csv('uOttawa_offerings_quick.csv', index=False, mode='a', header=not('uOttawa_offerings_quick.csv' in files))"
   ]
  },
  {
   "cell_type": "markdown",
   "metadata": {},
   "source": [
    "# Long Get-All"
   ]
  },
  {
   "cell_type": "code",
   "execution_count": 20,
   "metadata": {},
   "outputs": [],
   "source": [
    "def get_course_offerings(courses, save=None):\n",
    "    '''\n",
    "    Gets offerings for each course in courses individually, saving to save so as not to lose progress\n",
    "    '''\n",
    "    s = requests.Session()\n",
    "    output = []\n",
    "    temp = []\n",
    "    try:\n",
    "        for course in courses:\n",
    "            t1 = pf()\n",
    "            temp = get_offerings(course, session=s)\n",
    "            if save is not None:\n",
    "                pd.read_json(json.dumps(temp), orient='records').to_csv(save, \\\n",
    "                        index=False, header=not(save in get_files()), mode='a')\n",
    "            output += temp\n",
    "            t2 = pf()\n",
    "            sleep(max(1-(t2-t1), 0))\n",
    "    except KeyboardInterrupt:\n",
    "        output += temp\n",
    "        if save is not None:\n",
    "            pd.read_json(json.dumps(temp), orient='records').to_csv(save, \\\n",
    "                index=False, header=not(save in get_files()), mode='a')\n",
    "        return output\n",
    "    return output"
   ]
  },
  {
   "cell_type": "code",
   "execution_count": 18,
   "metadata": {},
   "outputs": [
    {
     "data": {
      "text/html": [
       "<div>\n",
       "<style scoped>\n",
       "    .dataframe tbody tr th:only-of-type {\n",
       "        vertical-align: middle;\n",
       "    }\n",
       "\n",
       "    .dataframe tbody tr th {\n",
       "        vertical-align: top;\n",
       "    }\n",
       "\n",
       "    .dataframe thead th {\n",
       "        text-align: right;\n",
       "    }\n",
       "</style>\n",
       "<table border=\"1\" class=\"dataframe\">\n",
       "  <thead>\n",
       "    <tr style=\"text-align: right;\">\n",
       "      <th></th>\n",
       "      <th>code</th>\n",
       "      <th>components</th>\n",
       "      <th>credits</th>\n",
       "      <th>dependencies</th>\n",
       "      <th>desc</th>\n",
       "      <th>prerequisites</th>\n",
       "      <th>title</th>\n",
       "    </tr>\n",
       "  </thead>\n",
       "  <tbody>\n",
       "    <tr>\n",
       "      <th>0</th>\n",
       "      <td>EAS 1101</td>\n",
       "      <td>['Lecture']</td>\n",
       "      <td>3</td>\n",
       "      <td>[]</td>\n",
       "      <td>Introduction to the global, cultural and relig...</td>\n",
       "      <td>NaN</td>\n",
       "      <td>Introduction to Aboriginal Societies and Cultures</td>\n",
       "    </tr>\n",
       "    <tr>\n",
       "      <th>1</th>\n",
       "      <td>EAS 1501</td>\n",
       "      <td>['Cours magistral']</td>\n",
       "      <td>3</td>\n",
       "      <td>[]</td>\n",
       "      <td>Introduction à la diversité culturelle et reli...</td>\n",
       "      <td>NaN</td>\n",
       "      <td>Introduction aux sociétés et cultures autochtones</td>\n",
       "    </tr>\n",
       "    <tr>\n",
       "      <th>2</th>\n",
       "      <td>EAS 2101</td>\n",
       "      <td>['Lecture']</td>\n",
       "      <td>3</td>\n",
       "      <td>[]</td>\n",
       "      <td>Study of the concept and history of colonialis...</td>\n",
       "      <td>NaN</td>\n",
       "      <td>Colonialism and Indigenous Peoples</td>\n",
       "    </tr>\n",
       "    <tr>\n",
       "      <th>3</th>\n",
       "      <td>EAS 2501</td>\n",
       "      <td>['Cours magistral']</td>\n",
       "      <td>3</td>\n",
       "      <td>[]</td>\n",
       "      <td>Étude conceptuelle et historique du colonialis...</td>\n",
       "      <td>NaN</td>\n",
       "      <td>Colonialisme et peuples autochtones</td>\n",
       "    </tr>\n",
       "    <tr>\n",
       "      <th>4</th>\n",
       "      <td>EAS 3101</td>\n",
       "      <td>['Lecture']</td>\n",
       "      <td>3</td>\n",
       "      <td>['EAS 2101']</td>\n",
       "      <td>Study and analysis of methodologies associated...</td>\n",
       "      <td>EAS 2101 or 54 university credits</td>\n",
       "      <td>Research and Methodologies in Aboriginal Studies</td>\n",
       "    </tr>\n",
       "  </tbody>\n",
       "</table>\n",
       "</div>"
      ],
      "text/plain": [
       "       code           components  credits  dependencies  \\\n",
       "0  EAS 1101          ['Lecture']        3            []   \n",
       "1  EAS 1501  ['Cours magistral']        3            []   \n",
       "2  EAS 2101          ['Lecture']        3            []   \n",
       "3  EAS 2501  ['Cours magistral']        3            []   \n",
       "4  EAS 3101          ['Lecture']        3  ['EAS 2101']   \n",
       "\n",
       "                                                desc  \\\n",
       "0  Introduction to the global, cultural and relig...   \n",
       "1  Introduction à la diversité culturelle et reli...   \n",
       "2  Study of the concept and history of colonialis...   \n",
       "3  Étude conceptuelle et historique du colonialis...   \n",
       "4  Study and analysis of methodologies associated...   \n",
       "\n",
       "                       prerequisites  \\\n",
       "0                                NaN   \n",
       "1                                NaN   \n",
       "2                                NaN   \n",
       "3                                NaN   \n",
       "4  EAS 2101 or 54 university credits   \n",
       "\n",
       "                                               title  \n",
       "0  Introduction to Aboriginal Societies and Cultures  \n",
       "1  Introduction aux sociétés et cultures autochtones  \n",
       "2                 Colonialism and Indigenous Peoples  \n",
       "3                Colonialisme et peuples autochtones  \n",
       "4   Research and Methodologies in Aboriginal Studies  "
      ]
     },
     "execution_count": 18,
     "metadata": {},
     "output_type": "execute_result"
    }
   ],
   "source": [
    "course_table = pd.read_csv('uOttawa_courses.csv', index_col=False)\n",
    "courses = course_table.code.tolist()\n",
    "course_table.head()"
   ]
  },
  {
   "cell_type": "code",
   "execution_count": 22,
   "metadata": {},
   "outputs": [
    {
     "name": "stdout",
     "output_type": "stream",
     "text": [
      "\tGetting offerings\n"
     ]
    }
   ],
   "source": [
    "#finds courses whose offerings have not already been retrieved\n",
    "if 'uOttawa_offerings_long.csv' in files:\n",
    "    done_courses = set(pd.read_csv('uOttawa_offerings_long.csv', index_col=False).code.tolist())\n",
    "    courses = list(set(courses).difference(done_courses))\n",
    "print('\\tGetting offerings')\n",
    "#picks up where it was left off and continues searching individually for course offerings\n",
    "offerings = get_course_offerings(courses, 'uOttawa_offerings_long.csv')"
   ]
  },
  {
   "cell_type": "code",
   "execution_count": 23,
   "metadata": {
    "scrolled": true
   },
   "outputs": [
    {
     "data": {
      "text/html": [
       "<div>\n",
       "<style scoped>\n",
       "    .dataframe tbody tr th:only-of-type {\n",
       "        vertical-align: middle;\n",
       "    }\n",
       "\n",
       "    .dataframe tbody tr th {\n",
       "        vertical-align: top;\n",
       "    }\n",
       "\n",
       "    .dataframe thead th {\n",
       "        text-align: right;\n",
       "    }\n",
       "</style>\n",
       "<table border=\"1\" class=\"dataframe\">\n",
       "  <thead>\n",
       "    <tr style=\"text-align: right;\">\n",
       "      <th></th>\n",
       "      <th>code</th>\n",
       "      <th>department</th>\n",
       "      <th>faculty</th>\n",
       "      <th>link</th>\n",
       "      <th>term</th>\n",
       "      <th>title</th>\n",
       "    </tr>\n",
       "  </thead>\n",
       "  <tbody>\n",
       "    <tr>\n",
       "      <th>0</th>\n",
       "      <td>EAS1101</td>\n",
       "      <td>Arts (General)</td>\n",
       "      <td>Faculty of Arts</td>\n",
       "      <td>Course.aspx?id=009180&amp;term=2189&amp;session=FS</td>\n",
       "      <td>2018 Fall Term</td>\n",
       "      <td>Introduction to Aboriginal Societies and Cultures</td>\n",
       "    </tr>\n",
       "    <tr>\n",
       "      <th>1</th>\n",
       "      <td>MAT1300</td>\n",
       "      <td>Department of Mathematics and Statistics</td>\n",
       "      <td>Faculty of Science</td>\n",
       "      <td>Course.aspx?id=019732&amp;term=2189&amp;session=FS</td>\n",
       "      <td>2018 Fall Term</td>\n",
       "      <td>Mathematical Methods I</td>\n",
       "    </tr>\n",
       "    <tr>\n",
       "      <th>2</th>\n",
       "      <td>MAT1300</td>\n",
       "      <td>Department of Mathematics and Statistics</td>\n",
       "      <td>Faculty of Science</td>\n",
       "      <td>Course.aspx?id=019732&amp;term=2191&amp;session=FS</td>\n",
       "      <td>2019 Winter Term</td>\n",
       "      <td>Mathematical Methods I</td>\n",
       "    </tr>\n",
       "    <tr>\n",
       "      <th>3</th>\n",
       "      <td>MAT1700</td>\n",
       "      <td>Department of Mathematics and Statistics</td>\n",
       "      <td>Faculty of Science</td>\n",
       "      <td>Course.aspx?id=019762&amp;term=2189&amp;session=FS</td>\n",
       "      <td>2018 Fall Term</td>\n",
       "      <td>Méthodes mathématiques I</td>\n",
       "    </tr>\n",
       "    <tr>\n",
       "      <th>4</th>\n",
       "      <td>MAT1700</td>\n",
       "      <td>Department of Mathematics and Statistics</td>\n",
       "      <td>Faculty of Science</td>\n",
       "      <td>Course.aspx?id=019762&amp;term=2191&amp;session=FS</td>\n",
       "      <td>2019 Winter Term</td>\n",
       "      <td>Méthodes mathématiques I</td>\n",
       "    </tr>\n",
       "  </tbody>\n",
       "</table>\n",
       "</div>"
      ],
      "text/plain": [
       "      code                                department             faculty  \\\n",
       "0  EAS1101                            Arts (General)     Faculty of Arts   \n",
       "1  MAT1300  Department of Mathematics and Statistics  Faculty of Science   \n",
       "2  MAT1300  Department of Mathematics and Statistics  Faculty of Science   \n",
       "3  MAT1700  Department of Mathematics and Statistics  Faculty of Science   \n",
       "4  MAT1700  Department of Mathematics and Statistics  Faculty of Science   \n",
       "\n",
       "                                         link              term  \\\n",
       "0  Course.aspx?id=009180&term=2189&session=FS    2018 Fall Term   \n",
       "1  Course.aspx?id=019732&term=2189&session=FS    2018 Fall Term   \n",
       "2  Course.aspx?id=019732&term=2191&session=FS  2019 Winter Term   \n",
       "3  Course.aspx?id=019762&term=2189&session=FS    2018 Fall Term   \n",
       "4  Course.aspx?id=019762&term=2191&session=FS  2019 Winter Term   \n",
       "\n",
       "                                               title  \n",
       "0  Introduction to Aboriginal Societies and Cultures  \n",
       "1                             Mathematical Methods I  \n",
       "2                             Mathematical Methods I  \n",
       "3                           Méthodes mathématiques I  \n",
       "4                           Méthodes mathématiques I  "
      ]
     },
     "execution_count": 23,
     "metadata": {},
     "output_type": "execute_result"
    }
   ],
   "source": [
    "offerings_table = pd.read_json(json.dumps(offerings), orient='records')\n",
    "offerings_table.head()"
   ]
  },
  {
   "cell_type": "markdown",
   "metadata": {},
   "source": [
    "# Get Specific Courses"
   ]
  },
  {
   "cell_type": "code",
   "execution_count": null,
   "metadata": {},
   "outputs": [],
   "source": []
  },
  {
   "cell_type": "markdown",
   "metadata": {},
   "source": [
    "# Getting Schedules"
   ]
  },
  {
   "cell_type": "code",
   "execution_count": 127,
   "metadata": {},
   "outputs": [
    {
     "data": {
      "text/plain": [
       "[[{'section': 'MAT2141 A00(September 05 - December 05)',\n",
       "   'activity': 'LEC',\n",
       "   'time': 'Thursday 13:00 - 14:20',\n",
       "   'location': 'VNR 3035',\n",
       "   'professor': 'Alistair  Savage'},\n",
       "  {'section': 'MAT2141 A00(September 05 - December 05)',\n",
       "   'activity': 'LEC',\n",
       "   'time': 'Monday 11:30 - 12:50',\n",
       "   'location': 'VNR 3035',\n",
       "   'professor': 'Alistair  Savage'},\n",
       "  {'section': 'MAT2141 A01(September 05 - December 05)',\n",
       "   'activity': 'DGD',\n",
       "   'time': 'Wednesday 10:00 - 11:20',\n",
       "   'location': 'CBY B012',\n",
       "   'professor': 'Not available at this time.'}]]"
      ]
     },
     "execution_count": 127,
     "metadata": {},
     "output_type": "execute_result"
    }
   ],
   "source": [
    "link = table[table.code.str.contains('MAT 2141')].link.tolist()[0]\n",
    "sections = get_sections(link)\n",
    "sections"
   ]
  },
  {
   "cell_type": "code",
   "execution_count": null,
   "metadata": {},
   "outputs": [],
   "source": []
  }
 ],
 "metadata": {
  "kernelspec": {
   "display_name": "Python 3",
   "language": "python",
   "name": "python3"
  },
  "language_info": {
   "codemirror_mode": {
    "name": "ipython",
    "version": 3
   },
   "file_extension": ".py",
   "mimetype": "text/x-python",
   "name": "python",
   "nbconvert_exporter": "python",
   "pygments_lexer": "ipython3",
   "version": "3.6.5"
  }
 },
 "nbformat": 4,
 "nbformat_minor": 2
}
