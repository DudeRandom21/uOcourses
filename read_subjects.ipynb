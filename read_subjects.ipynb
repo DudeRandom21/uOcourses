{
 "cells": [
  {
   "cell_type": "code",
   "execution_count": 1,
   "metadata": {},
   "outputs": [],
   "source": [
    "import pandas as pd\n",
    "import json"
   ]
  },
  {
   "cell_type": "code",
   "execution_count": 2,
   "metadata": {},
   "outputs": [],
   "source": [
    "subjects = pd.read_csv(\"uOttawa_subjects.csv\")\n",
    "subjects.head()\n",
    "\n",
    "with open(\"uOttawa_courses.json\") as f:\n",
    "    courses = json.load(f)\n",
    "course_tables = dict()\n",
    "for key in courses:\n",
    "    course_tables[key] = pd.read_json(courses[key])"
   ]
  },
  {
   "cell_type": "code",
   "execution_count": 5,
   "metadata": {},
   "outputs": [
    {
     "data": {
      "text/html": [
       "<div>\n",
       "<style scoped>\n",
       "    .dataframe tbody tr th:only-of-type {\n",
       "        vertical-align: middle;\n",
       "    }\n",
       "\n",
       "    .dataframe tbody tr th {\n",
       "        vertical-align: top;\n",
       "    }\n",
       "\n",
       "    .dataframe thead th {\n",
       "        text-align: right;\n",
       "    }\n",
       "</style>\n",
       "<table border=\"1\" class=\"dataframe\">\n",
       "  <thead>\n",
       "    <tr style=\"text-align: right;\">\n",
       "      <th></th>\n",
       "      <th>code</th>\n",
       "      <th>components</th>\n",
       "      <th>credits</th>\n",
       "      <th>dependencies</th>\n",
       "      <th>desc</th>\n",
       "      <th>prerequisites</th>\n",
       "      <th>title</th>\n",
       "    </tr>\n",
       "  </thead>\n",
       "  <tbody>\n",
       "    <tr>\n",
       "      <th>0</th>\n",
       "      <td>MAT 1300</td>\n",
       "      <td>[Discussion Group, Lecture]</td>\n",
       "      <td>3</td>\n",
       "      <td>[MAT 1339]</td>\n",
       "      <td>Review of elementary functions.  Limits.  Geom...</td>\n",
       "      <td>One of Calculus and Vectors (MCV4U) or MAT 133...</td>\n",
       "      <td>Mathematical Methods I</td>\n",
       "    </tr>\n",
       "    <tr>\n",
       "      <th>1</th>\n",
       "      <td>MAT 1302</td>\n",
       "      <td>[Discussion Group, Lecture]</td>\n",
       "      <td>3</td>\n",
       "      <td>[MAT1318, MAT1339]</td>\n",
       "      <td>Solution of systems of linear equations. Matri...</td>\n",
       "      <td>One of Ontario 4U Mathematics of Data Manageme...</td>\n",
       "      <td>Mathematical Methods II</td>\n",
       "    </tr>\n",
       "    <tr>\n",
       "      <th>2</th>\n",
       "      <td>MAT 1303</td>\n",
       "      <td>[Lecture]</td>\n",
       "      <td>3</td>\n",
       "      <td>[MAT 1300, MAT 1302]</td>\n",
       "      <td>Sequences, series, power series, Taylor series...</td>\n",
       "      <td>MAT 1300. MAT 1302 is corequisite to MAT 1303....</td>\n",
       "      <td>Mathematical Methods III</td>\n",
       "    </tr>\n",
       "    <tr>\n",
       "      <th>3</th>\n",
       "      <td>MAT 1308</td>\n",
       "      <td>[Discussion Group, Lecture]</td>\n",
       "      <td>3</td>\n",
       "      <td>[MAT 1318]</td>\n",
       "      <td>Review of elementary functions. Introduction t...</td>\n",
       "      <td>One of Advanced Functions (MHF4U) or MAT 1318 ...</td>\n",
       "      <td>Introduction to Calculus</td>\n",
       "    </tr>\n",
       "    <tr>\n",
       "      <th>4</th>\n",
       "      <td>MAT 1318</td>\n",
       "      <td>[Lecture]</td>\n",
       "      <td>3</td>\n",
       "      <td>[]</td>\n",
       "      <td>Polynomial and rational functions: factoring, ...</td>\n",
       "      <td>Ontario grade 11 Functions (MCR3U) or the equi...</td>\n",
       "      <td>Functions</td>\n",
       "    </tr>\n",
       "  </tbody>\n",
       "</table>\n",
       "</div>"
      ],
      "text/plain": [
       "       code                   components  credits          dependencies  \\\n",
       "0  MAT 1300  [Discussion Group, Lecture]        3            [MAT 1339]   \n",
       "1  MAT 1302  [Discussion Group, Lecture]        3    [MAT1318, MAT1339]   \n",
       "2  MAT 1303                    [Lecture]        3  [MAT 1300, MAT 1302]   \n",
       "3  MAT 1308  [Discussion Group, Lecture]        3            [MAT 1318]   \n",
       "4  MAT 1318                    [Lecture]        3                    []   \n",
       "\n",
       "                                                desc  \\\n",
       "0  Review of elementary functions.  Limits.  Geom...   \n",
       "1  Solution of systems of linear equations. Matri...   \n",
       "2  Sequences, series, power series, Taylor series...   \n",
       "3  Review of elementary functions. Introduction t...   \n",
       "4  Polynomial and rational functions: factoring, ...   \n",
       "\n",
       "                                       prerequisites                     title  \n",
       "0  One of Calculus and Vectors (MCV4U) or MAT 133...    Mathematical Methods I  \n",
       "1  One of Ontario 4U Mathematics of Data Manageme...   Mathematical Methods II  \n",
       "2  MAT 1300. MAT 1302 is corequisite to MAT 1303....  Mathematical Methods III  \n",
       "3  One of Advanced Functions (MHF4U) or MAT 1318 ...  Introduction to Calculus  \n",
       "4  Ontario grade 11 Functions (MCR3U) or the equi...                 Functions  "
      ]
     },
     "execution_count": 5,
     "metadata": {},
     "output_type": "execute_result"
    }
   ],
   "source": [
    "mat.head()"
   ]
  },
  {
   "cell_type": "code",
   "execution_count": 4,
   "metadata": {},
   "outputs": [
    {
     "data": {
      "text/plain": [
       "'MAT 1318 or Ontario 4U Advanced Functions (MHF4U) or equivalent. This course cannot be taken for credits by any student who has previously received credits for MAT 2348. Courses MAT 1348, MAT 1362 cannot be combined for credits'"
      ]
     },
     "execution_count": 4,
     "metadata": {},
     "output_type": "execute_result"
    }
   ],
   "source": [
    "mat = course_tables['mat']\n",
    "mat[mat.code.str.startswith('MAT 1348')].prerequisites.tolist()[0]"
   ]
  },
  {
   "cell_type": "code",
   "execution_count": 15,
   "metadata": {},
   "outputs": [
    {
     "data": {
      "text/plain": [
       "10091"
      ]
     },
     "execution_count": 15,
     "metadata": {},
     "output_type": "execute_result"
    }
   ],
   "source": [
    "sum([len(course_tables[key]) for key in course_tables])"
   ]
  },
  {
   "cell_type": "code",
   "execution_count": 8,
   "metadata": {},
   "outputs": [
    {
     "data": {
      "text/plain": [
       "[{'code': 'MAT 3143',\n",
       "  'components': ['Lecture'],\n",
       "  'credits': 3,\n",
       "  'dependencies': ['MAT 2143', 'MAT 2141'],\n",
       "  'desc': 'Rings, polynomial rings, homomorphisms, quotient rings, Euclidean rings, principal rings, factorial rings, fields, extensions of fields, splitting field, finite fields.\\nCourse Component: Lecture',\n",
       "  'prerequisites': 'MAT 2141, MAT 2143',\n",
       "  'title': 'Ring Theory'}]"
      ]
     },
     "execution_count": 8,
     "metadata": {},
     "output_type": "execute_result"
    }
   ],
   "source": [
    "mat[mat.code.str.startswith('MAT 3143')].to_dict(\"records\")"
   ]
  },
  {
   "cell_type": "code",
   "execution_count": null,
   "metadata": {},
   "outputs": [],
   "source": []
  },
  {
   "cell_type": "code",
   "execution_count": null,
   "metadata": {},
   "outputs": [],
   "source": [
    "subjects = pd.read_csv(\"uOttawa_subjects.csv\")\n",
    "subjects.head()\n",
    "\n",
    "with open(\"uOttawa_courses.json\") as f:\n",
    "    courses = json.load(f)\n",
    "\n",
    "course_tables = dict()\n",
    "for key in courses:\n",
    "    course_tables[key] = pd.read_json(courses[key])"
   ]
  }
 ],
 "metadata": {
  "kernelspec": {
   "display_name": "Python 3",
   "language": "python",
   "name": "python3"
  },
  "language_info": {
   "codemirror_mode": {
    "name": "ipython",
    "version": 3
   },
   "file_extension": ".py",
   "mimetype": "text/x-python",
   "name": "python",
   "nbconvert_exporter": "python",
   "pygments_lexer": "ipython3",
   "version": "3.6.5"
  }
 },
 "nbformat": 4,
 "nbformat_minor": 2
}
